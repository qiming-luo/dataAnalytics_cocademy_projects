{
 "cells": [
  {
   "cell_type": "markdown",
   "metadata": {},
   "source": [
    "# Cleaning US Census Data"
   ]
  },
  {
   "cell_type": "markdown",
   "metadata": {},
   "source": [
    "You just got hired as a Data Analyst at the Census Bureau, which collects census data and creates interesting visualizations and insights from it.\n",
    "\n",
    "The person who had your job before you left you all the data they had for the most recent census. It is in multiple `csv` files. They didn't use pandas, they would just look through these `csv` files manually whenever they wanted to find something. Sometimes they would copy and paste certain numbers into Excel to make charts.\n",
    "\n",
    "The thought of it makes you shiver. This is not scalable or repeatable.\n",
    "\n",
    "Your boss wants you to make some scatterplots and histograms by the end of the day. Can you get this data into `pandas` and into reasonable shape so that you can make these histograms?"
   ]
  },
  {
   "cell_type": "markdown",
   "metadata": {},
   "source": [
    "## Inspect the Data!"
   ]
  },
  {
   "cell_type": "markdown",
   "metadata": {},
   "source": [
    "1. The first visualization your boss wants you to make is a scatterplot that shows average income in a state vs proportion of women in that state.\n",
    "\n",
    "   Open some of the census `csv` files that came with the kit you downloaded. How are they named? What kind of information do they hold? Will they help us make this graph?"
   ]
  },
  {
   "cell_type": "code",
   "execution_count": null,
   "metadata": {},
   "outputs": [],
   "source": []
  },
  {
   "cell_type": "markdown",
   "metadata": {},
   "source": [
    "2. It will be easier to inspect this data once we have it in a DataFrame. You can't even call `.head()` on these `csv`s! How are you supposed to read them?\n",
    "\n",
    "   Using `glob`, loop through the census files available and load them into DataFrames. Then, concatenate all of those DataFrames together into one DataFrame, called something like `us_census`."
   ]
  },
  {
   "cell_type": "code",
   "execution_count": 6,
   "metadata": {},
   "outputs": [],
   "source": [
    "import pandas as pd\n",
    "import numpy as np\n",
    "import matplotlib.pyplot as plt\n",
    "import glob"
   ]
  },
  {
   "cell_type": "code",
   "execution_count": 7,
   "metadata": {},
   "outputs": [
    {
     "name": "stdout",
     "output_type": "stream",
     "text": [
      "   Unnamed: 0     State  TotalPop Hispanic   White   Black Native   Asian  \\\n",
      "0           0   Georgia  10006693    8.42%  54.29%  32.09%  0.19%   3.10%   \n",
      "1           1    Hawaii   1406299    9.19%  25.03%   2.05%  0.14%  36.59%   \n",
      "2           2     Idaho   1616547   11.51%  83.14%   0.57%  1.47%   1.14%   \n",
      "3           3  Illinois  12873761   15.60%  60.86%  17.11%  0.12%   4.48%   \n",
      "4           4   Indiana   6568645    6.54%  78.43%  11.19%  0.19%   1.58%   \n",
      "\n",
      "  Pacific       Income          GenderPop  \n",
      "0   0.05%  $50,811.08   4883331M_5123362F  \n",
      "1   8.76%  $73,264.43     709871M_696428F  \n",
      "2   0.13%  $48,017.32     810464M_806083F  \n",
      "3   0.02%  $59,587.05   6316899M_6556862F  \n",
      "4   0.03%  $48,616.23   3235263M_3333382F  \n"
     ]
    }
   ],
   "source": [
    "# import all files\n",
    "files_all = glob.glob('states*.csv')\n",
    "# read all csv and store all info in a single df\n",
    "df_list = []\n",
    "for file in files_all:\n",
    "    df_x = pd.read_csv(file)\n",
    "    df_list.append(df_x)\n",
    "\n",
    "df = pd.concat(df_list)\n",
    "# check out data\n",
    "print(df.head())"
   ]
  },
  {
   "cell_type": "markdown",
   "metadata": {},
   "source": [
    "3. Look at the `.columns` and the `.dtypes` of the `us_census` DataFrame. Are those datatypes going to hinder you as you try to make histograms?"
   ]
  },
  {
   "cell_type": "code",
   "execution_count": 9,
   "metadata": {},
   "outputs": [
    {
     "name": "stdout",
     "output_type": "stream",
     "text": [
      "Index(['Unnamed: 0', 'State', 'TotalPop', 'Hispanic', 'White', 'Black',\n",
      "       'Native', 'Asian', 'Pacific', 'Income', 'GenderPop'],\n",
      "      dtype='object')\n",
      "Unnamed: 0     int64\n",
      "State         object\n",
      "TotalPop       int64\n",
      "Hispanic      object\n",
      "White         object\n",
      "Black         object\n",
      "Native        object\n",
      "Asian         object\n",
      "Pacific       object\n",
      "Income        object\n",
      "GenderPop     object\n",
      "dtype: object\n"
     ]
    }
   ],
   "source": [
    "# inspect df\n",
    "print(df.columns)\n",
    "print(df.dtypes)"
   ]
  },
  {
   "cell_type": "markdown",
   "metadata": {},
   "source": [
    "4. Look at the `head()` of the DataFrame so that you can understand why some of these `dtypes` are objects instead of integers or floats.\n",
    "\n",
    "   Start to make a plan for how to convert these columns into the right types for manipulation."
   ]
  },
  {
   "cell_type": "code",
   "execution_count": 11,
   "metadata": {},
   "outputs": [],
   "source": [
    "# convert all percentage data to num \n",
    "# convert income data to num\n",
    "# further split GerderPop into Gender_M, Gender_F, and get the values to be int"
   ]
  },
  {
   "cell_type": "markdown",
   "metadata": {},
   "source": [
    "## Regex to the Rescue"
   ]
  },
  {
   "cell_type": "markdown",
   "metadata": {},
   "source": [
    "5. Use regex to turn the `Income` column into a format that is ready for conversion into a numerical type."
   ]
  },
  {
   "cell_type": "code",
   "execution_count": 14,
   "metadata": {},
   "outputs": [
    {
     "name": "stdout",
     "output_type": "stream",
     "text": [
      "0    50811.08\n",
      "1    73264.43\n",
      "2    48017.32\n",
      "3    59587.05\n",
      "4    48616.23\n",
      "Name: Income, dtype: float64\n"
     ]
    }
   ],
   "source": [
    "income_clean = df.Income.str.replace(r\"\\$|,\", '', regex=True)\n",
    "income_clean = income_clean.str.strip()\n",
    "df['Income'] = pd.to_numeric(income_clean)\n",
    "print(df.Income.head())"
   ]
  },
  {
   "cell_type": "markdown",
   "metadata": {},
   "source": [
    "6. Look at the `GenderPop` column. We are going to want to separate this into two columns, the `Men` column, and the `Women` column.\n",
    "\n",
    "   Split the column into those two new columns using `str.split` and separating out those results."
   ]
  },
  {
   "cell_type": "code",
   "execution_count": 16,
   "metadata": {},
   "outputs": [
    {
     "name": "stdout",
     "output_type": "stream",
     "text": [
      "  0        1   2        3  4\n",
      "0    4883331  M_  5123362  F\n",
      "1     709871  M_   696428  F\n",
      "2     810464  M_   806083  F\n",
      "3    6316899  M_  6556862  F\n",
      "4    3235263  M_  3333382  F\n"
     ]
    }
   ],
   "source": [
    "gender_pop_split = df.GenderPop.str.split(r'(\\d+)', expand=True)\n",
    "print(gender_pop_split.head())"
   ]
  },
  {
   "cell_type": "markdown",
   "metadata": {},
   "source": [
    "7. Convert both of the columns into numerical datatypes.\n",
    "\n",
    "   There is still an `M` or an `F` character in each entry! We should remove those before we convert."
   ]
  },
  {
   "cell_type": "code",
   "execution_count": 18,
   "metadata": {},
   "outputs": [
    {
     "name": "stdout",
     "output_type": "stream",
     "text": [
      "   Unnamed: 0     State  TotalPop Hispanic   White   Black Native   Asian  \\\n",
      "0           0   Georgia  10006693    8.42%  54.29%  32.09%  0.19%   3.10%   \n",
      "1           1    Hawaii   1406299    9.19%  25.03%   2.05%  0.14%  36.59%   \n",
      "2           2     Idaho   1616547   11.51%  83.14%   0.57%  1.47%   1.14%   \n",
      "3           3  Illinois  12873761   15.60%  60.86%  17.11%  0.12%   4.48%   \n",
      "4           4   Indiana   6568645    6.54%  78.43%  11.19%  0.19%   1.58%   \n",
      "\n",
      "  Pacific    Income          GenderPop      Men      Women  \n",
      "0   0.05%  50811.08  4883331M_5123362F  4883331  5123362.0  \n",
      "1   8.76%  73264.43    709871M_696428F   709871   696428.0  \n",
      "2   0.13%  48017.32    810464M_806083F   810464   806083.0  \n",
      "3   0.02%  59587.05  6316899M_6556862F  6316899  6556862.0  \n",
      "4   0.03%  48616.23  3235263M_3333382F  3235263  3333382.0  \n",
      "Unnamed: 0      int64\n",
      "State          object\n",
      "TotalPop        int64\n",
      "Hispanic       object\n",
      "White          object\n",
      "Black          object\n",
      "Native         object\n",
      "Asian          object\n",
      "Pacific        object\n",
      "Income        float64\n",
      "GenderPop      object\n",
      "Men             int64\n",
      "Women         float64\n",
      "dtype: object\n"
     ]
    }
   ],
   "source": [
    "df['Men'] = pd.to_numeric(gender_pop_split[1])\n",
    "df['Women'] = pd.to_numeric(gender_pop_split[3])\n",
    "print(df.head())\n",
    "print(df.dtypes)"
   ]
  },
  {
   "cell_type": "code",
   "execution_count": 19,
   "metadata": {},
   "outputs": [],
   "source": [
    "# df['Women'] = df['Women'].astype('int64')\n",
    "# print(df.dtypes)\n",
    "# there are missing values in Women column"
   ]
  },
  {
   "cell_type": "markdown",
   "metadata": {},
   "source": [
    "8. Now you should have the columns you need to make the graph and make sure your boss does not slam a ruler angrily on your desk because you've wasted your whole day cleaning your data with no results to show!\n",
    "\n",
    "   Use matplotlib to make a scatterplot!\n",
    "   \n",
    "   ```py\n",
    "   plt.scatter(the_women_column, the_income_column)\n",
    "   ```\n",
    "   \n",
    "   Remember to call `plt.show()` to see the graph!"
   ]
  },
  {
   "cell_type": "code",
   "execution_count": 21,
   "metadata": {},
   "outputs": [
    {
     "data": {
      "image/png": "[encoded data removed]",
      "text/plain": [
       "<Figure size 640x480 with 1 Axes>"
      ]
     },
     "metadata": {},
     "output_type": "display_data"
    }
   ],
   "source": [
    "# compare women poppulation(abs valre) vs income\n",
    "plt.scatter(df.Women, df.Income)\n",
    "plt.show()"
   ]
  },
  {
   "cell_type": "markdown",
   "metadata": {},
   "source": [
    "9. You want to double check your work. You know from experience that these monstrous csv files probably have `nan` values in them! Print out your column with the number of women per state to see.\n",
    "\n",
    "   We can fill in those `nan`s by using pandas' `.fillna()` function.\n",
    "   \n",
    "   You have the `TotalPop` per state, and you have the `Men` per state. As an estimate for the `nan` values in the `Women` column, you could use the `TotalPop` of that state minus the `Men` for that state.\n",
    "   \n",
    "   Print out the `Women` column after filling the `nan` values to see if it worked!"
   ]
  },
  {
   "cell_type": "code",
   "execution_count": 23,
   "metadata": {},
   "outputs": [
    {
     "name": "stdout",
     "output_type": "stream",
     "text": [
      "Unnamed: 0    0\n",
      "State         0\n",
      "TotalPop      0\n",
      "Hispanic      0\n",
      "White         0\n",
      "Black         0\n",
      "Native        0\n",
      "Asian         0\n",
      "Pacific       5\n",
      "Income        0\n",
      "GenderPop     0\n",
      "Men           0\n",
      "Women         3\n",
      "dtype: int64\n"
     ]
    }
   ],
   "source": [
    "# check if there are missing in any column\n",
    "print(df.isna().sum())"
   ]
  },
  {
   "cell_type": "code",
   "execution_count": 24,
   "metadata": {},
   "outputs": [
    {
     "name": "stdout",
     "output_type": "stream",
     "text": [
      "   Unnamed: 0     State  TotalPop Hispanic   White   Black Native  Asian  \\\n",
      "1           1   Montana   1014699    3.27%  86.42%   0.43%  7.06%  0.57%   \n",
      "5           5  Maryland   5930538    8.47%  52.68%  30.68%  0.20%  5.33%   \n",
      "0           0  Maryland   5930538    8.47%  52.68%  30.68%  0.20%  5.33%   \n",
      "\n",
      "  Pacific    Income   GenderPop      Men  Women  \n",
      "1   0.07%  47645.68   510163M_F   510163    NaN  \n",
      "5   0.04%  78765.40  2872643M_F  2872643    NaN  \n",
      "0   0.04%  78765.40  2872643M_F  2872643    NaN  \n"
     ]
    }
   ],
   "source": [
    "# check nan value women rows\n",
    "print(df[df['Women'].isna()])"
   ]
  },
  {
   "cell_type": "code",
   "execution_count": 25,
   "metadata": {},
   "outputs": [
    {
     "name": "stdout",
     "output_type": "stream",
     "text": [
      "   Unnamed: 0         State  TotalPop Hispanic   White   Black Native  Asian  \\\n",
      "1           1       Montana   1014699    3.27%  86.42%   0.43%  7.06%  0.57%   \n",
      "1           1        Kansas   2892987   11.64%  75.96%   6.57%  0.73%  2.33%   \n",
      "5           5      Maryland   5930538    8.47%  52.68%  30.68%  0.20%  5.33%   \n",
      "5           5      Colorado   5278906   20.78%  69.90%   3.55%  0.57%  2.66%   \n",
      "0           0      Maryland   5930538    8.47%  52.68%  30.68%  0.20%  5.33%   \n",
      "4           4  North Dakota    721640    2.83%  87.45%   1.28%  5.65%  0.96%   \n",
      "0           0      Colorado   5278906   20.78%  69.90%   3.55%  0.57%  2.66%   \n",
      "2           2      Delaware    926454    8.82%  64.63%  20.74%  0.26%  3.27%   \n",
      "\n",
      "  Pacific    Income          GenderPop      Men      Women  \n",
      "1   0.07%  47645.68          510163M_F   510163        NaN  \n",
      "1     NaN  53885.61  1439862M_1453125F  1439862  1453125.0  \n",
      "5   0.04%  78765.40         2872643M_F  2872643        NaN  \n",
      "5     NaN  64657.80  2648667M_2630239F  2648667  2630239.0  \n",
      "0   0.04%  78765.40         2872643M_F  2872643        NaN  \n",
      "4     NaN  58188.11    367963M_353677F   367963   353677.0  \n",
      "0     NaN  64657.80  2648667M_2630239F  2648667  2630239.0  \n",
      "2     NaN  61827.98    448413M_478041F   448413   478041.0  \n"
     ]
    }
   ],
   "source": [
    "# check all rows with non value\n",
    "print(df[df.isna().any(axis=1)])"
   ]
  },
  {
   "cell_type": "code",
   "execution_count": 26,
   "metadata": {},
   "outputs": [
    {
     "name": "stdout",
     "output_type": "stream",
     "text": [
      "0     5123362.0\n",
      "1      696428.0\n",
      "2      806083.0\n",
      "3     6556862.0\n",
      "4     3333382.0\n",
      "5     1558931.0\n",
      "0     1444150.0\n",
      "1      318031.0\n",
      "2     4195682.0\n",
      "3     3497739.0\n",
      "4      937789.0\n",
      "5     2890732.0\n",
      "0     3081445.0\n",
      "1      504536.0\n",
      "2      939759.0\n",
      "3     1390901.0\n",
      "4      670717.0\n",
      "5     4561386.0\n",
      "0     1558931.0\n",
      "1     1453125.0\n",
      "2     2233145.0\n",
      "3     2364097.0\n",
      "4      679019.0\n",
      "5     3057895.0\n",
      "0     2489527.0\n",
      "1      349215.0\n",
      "2     3342840.0\n",
      "3     1506295.0\n",
      "4    19334329.0\n",
      "5     2630239.0\n",
      "0     3057895.0\n",
      "1     3455936.0\n",
      "2     5038598.0\n",
      "3     2727005.0\n",
      "4     1536358.0\n",
      "5     3081445.0\n",
      "0     5913084.0\n",
      "1     1942789.0\n",
      "2     1990780.0\n",
      "3     6534215.0\n",
      "4     1869213.0\n",
      "5      543273.0\n",
      "0     4561386.0\n",
      "1     1051703.0\n",
      "2    10131373.0\n",
      "3     5049925.0\n",
      "4      353677.0\n",
      "5     5913084.0\n",
      "0     2630239.0\n",
      "1     1841615.0\n",
      "2      478041.0\n",
      "3      340810.0\n",
      "4    10045763.0\n",
      "5     5123362.0\n",
      "0      543273.0\n",
      "1     2455167.0\n",
      "2      419713.0\n",
      "3     3331859.0\n",
      "4    13367298.0\n",
      "5     1444150.0\n",
      "Name: Women, dtype: float64\n"
     ]
    }
   ],
   "source": [
    "# fill nan women \n",
    "df = df.fillna(value = {'Women': df['TotalPop'] - df['Men']})\n",
    "print(df.Women)"
   ]
  },
  {
   "cell_type": "markdown",
   "metadata": {},
   "source": [
    "10. We forgot to check for duplicates! Use `.duplicated()` on your `census` DataFrame to see if we have duplicate rows in there."
   ]
  },
  {
   "cell_type": "code",
   "execution_count": 28,
   "metadata": {},
   "outputs": [
    {
     "name": "stdout",
     "output_type": "stream",
     "text": [
      "Empty DataFrame\n",
      "Columns: [Unnamed: 0, State, TotalPop, Hispanic, White, Black, Native, Asian, Pacific, Income, GenderPop, Men, Women]\n",
      "Index: []\n"
     ]
    }
   ],
   "source": [
    "print(df[df.duplicated()])"
   ]
  },
  {
   "cell_type": "markdown",
   "metadata": {},
   "source": [
    "11. Drop those duplicates using the `.drop_duplicates()` function."
   ]
  },
  {
   "cell_type": "code",
   "execution_count": 30,
   "metadata": {},
   "outputs": [],
   "source": [
    "# no duplicated rows to drop"
   ]
  },
  {
   "cell_type": "markdown",
   "metadata": {},
   "source": [
    "12. Make the scatterplot again. Now, it should be perfect! Your job is secure, for now."
   ]
  },
  {
   "cell_type": "code",
   "execution_count": 32,
   "metadata": {},
   "outputs": [
    {
     "data": {
      "image/png": "[encoded data removed]",
      "text/plain": [
       "<Figure size 640x480 with 1 Axes>"
      ]
     },
     "metadata": {},
     "output_type": "display_data"
    }
   ],
   "source": [
    "plt.scatter(df.Women, df.Income)\n",
    "plt.show()"
   ]
  },
  {
   "cell_type": "markdown",
   "metadata": {},
   "source": [
    "## Histogram of Races"
   ]
  },
  {
   "cell_type": "markdown",
   "metadata": {},
   "source": [
    "13. Now your boss wants you to make a bunch of histograms out of the race data that you have. Look at the `.columns` again to see what the race categories are."
   ]
  },
  {
   "cell_type": "code",
   "execution_count": 35,
   "metadata": {},
   "outputs": [
    {
     "name": "stdout",
     "output_type": "stream",
     "text": [
      "Index(['Unnamed: 0', 'State', 'TotalPop', 'Hispanic', 'White', 'Black',\n",
      "       'Native', 'Asian', 'Pacific', 'Income', 'GenderPop', 'Men', 'Women'],\n",
      "      dtype='object')\n"
     ]
    }
   ],
   "source": [
    "# print columns\n",
    "print(df.columns)"
   ]
  },
  {
   "cell_type": "code",
   "execution_count": 36,
   "metadata": {},
   "outputs": [],
   "source": [
    "# convert percentage to num\n",
    "# Pacific has non value, so first do nothing to this column\n",
    "# convert 'Hispanic', 'White', 'Black',\n",
    "       # 'Native', 'Asian', to num"
   ]
  },
  {
   "cell_type": "code",
   "execution_count": 37,
   "metadata": {},
   "outputs": [
    {
     "name": "stdout",
     "output_type": "stream",
     "text": [
      "   Unnamed: 0     State  TotalPop  Hispanic   White   Black  Native   Asian  \\\n",
      "0           0   Georgia  10006693    0.0842  0.5429  0.3209  0.0019  0.0310   \n",
      "1           1    Hawaii   1406299    0.0919  0.2503  0.0205  0.0014  0.3659   \n",
      "2           2     Idaho   1616547    0.1151  0.8314  0.0057  0.0147  0.0114   \n",
      "3           3  Illinois  12873761    0.1560  0.6086  0.1711  0.0012  0.0448   \n",
      "4           4   Indiana   6568645    0.0654  0.7843  0.1119  0.0019  0.0158   \n",
      "\n",
      "  Pacific    Income          GenderPop      Men      Women  \n",
      "0   0.05%  50811.08  4883331M_5123362F  4883331  5123362.0  \n",
      "1   8.76%  73264.43    709871M_696428F   709871   696428.0  \n",
      "2   0.13%  48017.32    810464M_806083F   810464   806083.0  \n",
      "3   0.02%  59587.05  6316899M_6556862F  6316899  6556862.0  \n",
      "4   0.03%  48616.23  3235263M_3333382F  3235263  3333382.0  \n",
      "Unnamed: 0      int64\n",
      "State          object\n",
      "TotalPop        int64\n",
      "Hispanic      float64\n",
      "White         float64\n",
      "Black         float64\n",
      "Native        float64\n",
      "Asian         float64\n",
      "Pacific        object\n",
      "Income        float64\n",
      "GenderPop      object\n",
      "Men             int64\n",
      "Women         float64\n",
      "dtype: object\n"
     ]
    }
   ],
   "source": [
    "df['Hispanic'] = df['Hispanic'].str.replace('%', '').astype('float')/100\n",
    "df['White'] = df['White'].str.replace('%', '').astype('float')/100\n",
    "df['Black'] = df['Black'].str.replace('%', '').astype('float')/100\n",
    "df['Native'] = df['Native'].str.replace('%', '').astype('float')/100\n",
    "df['Asian'] = df['Asian'].str.replace('%', '').astype('float')/100\n",
    "print(df.head())\n",
    "print(df.dtypes)"
   ]
  },
  {
   "cell_type": "code",
   "execution_count": 65,
   "metadata": {},
   "outputs": [
    {
     "name": "stdout",
     "output_type": "stream",
     "text": [
      "   Unnamed: 0                 State  TotalPop  Hispanic   White   Black  \\\n",
      "0           0               Georgia  10006693    0.0842  0.5429  0.3209   \n",
      "1           1                Hawaii   1406299    0.0919  0.2503  0.0205   \n",
      "2           2                 Idaho   1616547    0.1151  0.8314  0.0057   \n",
      "3           3              Illinois  12873761    0.1560  0.6086  0.1711   \n",
      "4           4               Indiana   6568645    0.0654  0.7843  0.1119   \n",
      "5           5                  Iowa   3093526    0.0530  0.8772  0.0326   \n",
      "0           0                  Utah   2903379    0.1347  0.7941  0.0102   \n",
      "1           1               Vermont    626604    0.0161  0.9398  0.0098   \n",
      "2           2              Virginia   8256630    0.0801  0.6327  0.2018   \n",
      "3           3            Washington   6985464    0.1114  0.7204  0.0338   \n",
      "4           4         West Virginia   1851420    0.0129  0.9218  0.0366   \n",
      "5           5             Wisconsin   5742117    0.0668  0.7986  0.0820   \n",
      "0           0              Missouri   6045448    0.0404  0.7751  0.1412   \n",
      "1           1               Montana   1014699    0.0327  0.8642  0.0043   \n",
      "2           2              Nebraska   1869365    0.0920  0.8114  0.0496   \n",
      "3           3                Nevada   2798636    0.2710  0.5324  0.0774   \n",
      "4           4         New Hampshire   1324201    0.0332  0.9132  0.0123   \n",
      "5           5            New Jersey   8904413    0.1875  0.5649  0.1439   \n",
      "0           0                  Iowa   3093526    0.0530  0.8772  0.0326   \n",
      "1           1                Kansas   2892987    0.1164  0.7596  0.0657   \n",
      "2           2              Kentucky   4397353    0.0322  0.8523  0.0827   \n",
      "3           3             Louisiana   4625253    0.0487  0.5498  0.3633   \n",
      "4           4                 Maine   1329100    0.0143  0.9371  0.0113   \n",
      "5           5              Maryland   5930538    0.0847  0.5268  0.3068   \n",
      "0           0               Alabama   4830620    0.0375  0.6188  0.3125   \n",
      "1           1                Alaska    733375    0.0591  0.6091  0.0285   \n",
      "2           2               Arizona   6641928    0.2957  0.5712  0.0385   \n",
      "3           3              Arkansas   2958208    0.0622  0.7114  0.1897   \n",
      "4           4            California  38421464    0.3729  0.4022  0.0568   \n",
      "5           5              Colorado   5278906    0.2078  0.6990  0.0355   \n",
      "0           0              Maryland   5930538    0.0847  0.5268  0.3068   \n",
      "1           1         Massachusetts   6705586    0.1146  0.7304  0.0683   \n",
      "2           2              Michigan   9900571    0.0463  0.7238  0.1763   \n",
      "3           3             Minnesota   5419171    0.0515  0.8143  0.0566   \n",
      "4           4           Mississippi   2988081    0.0284  0.5329  0.4149   \n",
      "5           5              Missouri   6045448    0.0404  0.7751  0.1412   \n",
      "0           0                  Ohio  11575977    0.0367  0.7590  0.1621   \n",
      "1           1              Oklahoma   3849733    0.1008  0.6606  0.0831   \n",
      "2           2                Oregon   3939233    0.1144  0.7840  0.0173   \n",
      "3           3          Pennsylvania  12779559    0.0613  0.7738  0.1163   \n",
      "4           4           Puerto Rico   3583073    0.9889  0.0077  0.0009   \n",
      "5           5          Rhode Island   1053661    0.1336  0.7433  0.0568   \n",
      "0           0            New Jersey   8904413    0.1875  0.5649  0.1439   \n",
      "1           1            New Mexico   2084117    0.4528  0.4070  0.0176   \n",
      "2           2              New York  19673174    0.1724  0.5647  0.1567   \n",
      "3           3        North Carolina   9845333    0.0846  0.6460  0.2140   \n",
      "4           4          North Dakota    721640    0.0283  0.8745  0.0128   \n",
      "5           5                  Ohio  11575977    0.0367  0.7590  0.1621   \n",
      "0           0              Colorado   5278906    0.2078  0.6990  0.0355   \n",
      "1           1           Connecticut   3593222    0.1560  0.6768  0.1035   \n",
      "2           2              Delaware    926454    0.0882  0.6463  0.2074   \n",
      "3           3  District of Columbia    647484    0.0917  0.3310  0.5178   \n",
      "4           4               Florida  19645772    0.2134  0.5908  0.1517   \n",
      "5           5               Georgia  10006693    0.0842  0.5429  0.3209   \n",
      "0           0          Rhode Island   1053661    0.1336  0.7433  0.0568   \n",
      "1           1        South Carolina   4777576    0.0506  0.6289  0.2875   \n",
      "2           2          South Dakota    843190    0.0324  0.8250  0.0142   \n",
      "3           3             Tennessee   6499615    0.0472  0.7349  0.1828   \n",
      "4           4                 Texas  26538614    0.3805  0.4469  0.1165   \n",
      "5           5                  Utah   2903379    0.1347  0.7941  0.0102   \n",
      "\n",
      "   Native   Asian Pacific    Income            GenderPop       Men       Women  \n",
      "0  0.0019  0.0310   0.05%  50811.08    4883331M_5123362F   4883331   5123362.0  \n",
      "1  0.0014  0.3659   8.76%  73264.43      709871M_696428F    709871    696428.0  \n",
      "2  0.0147  0.0114   0.13%  48017.32      810464M_806083F    810464    806083.0  \n",
      "3  0.0012  0.0448   0.02%  59587.05    6316899M_6556862F   6316899   6556862.0  \n",
      "4  0.0019  0.0158   0.03%  48616.23    3235263M_3333382F   3235263   3333382.0  \n",
      "5  0.0029  0.0170   0.06%  53017.75    1534595M_1558931F   1534595   1558931.0  \n",
      "0  0.0108  0.0220   0.83%  63488.92    1459229M_1444150F   1459229   1444150.0  \n",
      "1  0.0030  0.0124   0.03%  55602.97      308573M_318031F    308573    318031.0  \n",
      "2  0.0021  0.0546   0.06%  72866.01    4060948M_4195682F   4060948   4195682.0  \n",
      "3  0.0141  0.0702   0.61%  64493.77    3487725M_3497739F   3487725   3497739.0  \n",
      "4  0.0015  0.0068   0.03%  41437.11      913631M_937789F    913631    937789.0  \n",
      "5  0.0095  0.0240   0.02%  53898.89    2851385M_2890732F   2851385   2890732.0  \n",
      "0  0.0036  0.0162   0.10%  49763.99    2964003M_3081445F   2964003   3081445.0  \n",
      "1  0.0706  0.0057   0.07%  47645.68            510163M_F    510163    504536.0  \n",
      "2  0.0086  0.0186   0.06%  55916.47      929606M_939759F    929606    939759.0  \n",
      "3  0.0109  0.0710   0.57%  55526.53    1407735M_1390901F   1407735   1390901.0  \n",
      "4  0.0014  0.0219   0.02%  68728.86      653484M_670717F    653484    670717.0  \n",
      "5  0.0012  0.0816   0.03%  76581.08    4343027M_4561386F   4343027   4561386.0  \n",
      "0  0.0029  0.0170   0.06%  53017.75    1534595M_1558931F   1534595   1558931.0  \n",
      "1  0.0073  0.0233     NaN  53885.61    1439862M_1453125F   1439862   1453125.0  \n",
      "2  0.0017  0.0113   0.05%  45285.80    2164208M_2233145F   2164208   2233145.0  \n",
      "3  0.0048  0.0167   0.04%  44957.99    2261156M_2364097F   2261156   2364097.0  \n",
      "4  0.0079  0.0097   0.02%  49181.97      650081M_679019F    650081    679019.0  \n",
      "5  0.0020  0.0533   0.04%  78765.40           2872643M_F   2872643   3057895.0  \n",
      "0  0.0045  0.0105   0.03%  43296.36    2341093M_2489527F   2341093   2489527.0  \n",
      "1  0.1639  0.0545   1.06%  70354.74      384160M_349215F    384160    349215.0  \n",
      "2  0.0436  0.0288   0.17%  54207.82    3299088M_3342840F   3299088   3342840.0  \n",
      "3  0.0052  0.0114   0.15%  41935.63    1451913M_1506295F   1451913   1506295.0  \n",
      "4  0.0041  0.1305   0.35%  67264.78  19087135M_19334329F  19087135  19334329.0  \n",
      "5  0.0057  0.0266     NaN  64657.80    2648667M_2630239F   2648667   2630239.0  \n",
      "0  0.0020  0.0533   0.04%  78765.40           2872643M_F   2872643   3057895.0  \n",
      "1  0.0013  0.0584   0.02%  72838.94    3249650M_3455936F   3249650   3455936.0  \n",
      "2  0.0048  0.0242   0.02%  51201.83    4861973M_5038598F   4861973   5038598.0  \n",
      "3  0.0107  0.0416   0.03%  62820.83    2692166M_2727005F   2692166   2727005.0  \n",
      "4  0.0039  0.0088   0.02%  38909.92    1451723M_1536358F   1451723   1536358.0  \n",
      "5  0.0036  0.0162   0.10%  49763.99    2964003M_3081445F   2964003   3081445.0  \n",
      "0  0.0017  0.0162   0.02%  49655.25    5662893M_5913084F   5662893   5913084.0  \n",
      "1  0.0672  0.0180   0.11%  48100.85    1906944M_1942789F   1906944   1942789.0  \n",
      "2  0.0100  0.0359   0.35%  54271.90    1948453M_1990780F   1948453   1990780.0  \n",
      "3  0.0012  0.0280   0.02%  56170.46    6245344M_6534215F   6245344   6534215.0  \n",
      "4  0.0000  0.0008   0.00%  20720.54    1713860M_1869213F   1713860   1869213.0  \n",
      "5  0.0035  0.0325   0.04%  59125.27      510388M_543273F    510388    543273.0  \n",
      "0  0.0012  0.0816   0.03%  76581.08    4343027M_4561386F   4343027   4561386.0  \n",
      "1  0.0925  0.0123   0.04%  47329.97    1032414M_1051703F   1032414   1051703.0  \n",
      "2  0.0032  0.0790   0.02%  64290.75   9541801M_10131373F   9541801  10131373.0  \n",
      "3  0.0109  0.0232   0.05%  49937.46    4795408M_5049925F   4795408   5049925.0  \n",
      "4  0.0565  0.0096     NaN  58188.11      367963M_353677F    367963    353677.0  \n",
      "5  0.0017  0.0162   0.02%  49655.25    5662893M_5913084F   5662893   5913084.0  \n",
      "0  0.0057  0.0266     NaN  64657.80    2648667M_2630239F   2648667   2630239.0  \n",
      "1  0.0013  0.0402   0.02%  76146.56    1751607M_1841615F   1751607   1841615.0  \n",
      "2  0.0026  0.0327     NaN  61827.98      448413M_478041F    448413    478041.0  \n",
      "3  0.0020  0.0338   0.03%  75466.36      306674M_340810F    306674    340810.0  \n",
      "4  0.0021  0.0228   0.05%  50690.19   9600009M_10045763F   9600009  10045763.0  \n",
      "5  0.0019  0.0310   0.05%  50811.08    4883331M_5123362F   4883331   5123362.0  \n",
      "0  0.0035  0.0325   0.04%  59125.27      510388M_543273F    510388    543273.0  \n",
      "1  0.0029  0.0125   0.05%  46296.81    2322409M_2455167F   2322409   2455167.0  \n",
      "2  0.0942  0.0102   0.04%  51805.41      423477M_419713F    423477    419713.0  \n",
      "3  0.0023  0.0141   0.04%  47328.08    3167756M_3331859F   3167756   3331859.0  \n",
      "4  0.0026  0.0367   0.07%  55874.52  13171316M_13367298F  13171316  13367298.0  \n",
      "5  0.0108  0.0220   0.83%  63488.92    1459229M_1444150F   1459229   1444150.0  \n"
     ]
    }
   ],
   "source": [
    "print(df)"
   ]
  },
  {
   "cell_type": "code",
   "execution_count": null,
   "metadata": {},
   "outputs": [],
   "source": []
  },
  {
   "cell_type": "markdown",
   "metadata": {},
   "source": [
    "14. Try to make a histogram for each one!\n",
    "\n",
    "    You will have to get the columns into the numerical format, and those percentage signs will have to go.\n",
    "    \n",
    "    Don't forget to fill the `nan` values with something that makes sense! You probably dropped the duplicate rows when making your last graph, but it couldn't hurt to check for duplicates again."
   ]
  },
  {
   "cell_type": "code",
   "execution_count": null,
   "metadata": {},
   "outputs": [],
   "source": []
  },
  {
   "cell_type": "markdown",
   "metadata": {},
   "source": [
    "## Get Creative"
   ]
  },
  {
   "cell_type": "markdown",
   "metadata": {},
   "source": [
    "15. Phew. You've definitely impressed your boss on your first day of work.\n",
    "\n",
    "    But is there a way you really convey the power of pandas and Python over the drudgery of `csv` and Excel?\n",
    "    \n",
    "    Try to make some more interesting graphs to show your boss, and the world! You may need to clean the data even more to do it, or the cleaning you have already done may give you the ease of manipulation you've been searching for."
   ]
  },
  {
   "cell_type": "code",
   "execution_count": null,
   "metadata": {},
   "outputs": [],
   "source": []
  }
 ],
 "metadata": {
  "kernelspec": {
   "display_name": "Python 3 (ipykernel)",
   "language": "python",
   "name": "python3"
  },
  "language_info": {
   "codemirror_mode": {
    "name": "ipython",
    "version": 3
   },
   "file_extension": ".py",
   "mimetype": "text/x-python",
   "name": "python",
   "nbconvert_exporter": "python",
   "pygments_lexer": "ipython3",
   "version": "3.12.4"
  }
 },
 "nbformat": 4,
 "nbformat_minor": 4
}
