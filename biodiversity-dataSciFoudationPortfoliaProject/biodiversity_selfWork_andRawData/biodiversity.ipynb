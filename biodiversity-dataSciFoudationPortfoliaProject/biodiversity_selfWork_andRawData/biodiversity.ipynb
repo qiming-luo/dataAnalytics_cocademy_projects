{
 "cells": [
  {
   "cell_type": "code",
   "execution_count": 1,
   "metadata": {},
   "outputs": [],
   "source": [
    "import pandas as pd\n",
    "import numpy as np\n",
    "import matplotlib.pyplot as plt\n",
    "import scipy.stats as st\n",
    "import seaborn as sns"
   ]
  },
  {
   "cell_type": "code",
   "execution_count": 2,
   "metadata": {},
   "outputs": [],
   "source": [
    "# import csv data\n",
    "observations = pd.read_csv('observations.csv')\n",
    "species = pd.read_csv('species_info.csv')"
   ]
  },
  {
   "cell_type": "code",
   "execution_count": 5,
   "metadata": {},
   "outputs": [
    {
     "name": "stdout",
     "output_type": "stream",
     "text": [
      "df-observations\n",
      "            scientific_name                            park_name  observations\n",
      "0        Vicia benghalensis  Great Smoky Mountains National Park            68\n",
      "1            Neovison vison  Great Smoky Mountains National Park            77\n",
      "2         Prunus subcordata               Yosemite National Park           138\n",
      "3      Abutilon theophrasti                  Bryce National Park            84\n",
      "4  Githopsis specularioides  Great Smoky Mountains National Park            85\n",
      "\n",
      " df-species\n",
      "  category                scientific_name  \\\n",
      "0   Mammal  Clethrionomys gapperi gapperi   \n",
      "1   Mammal                      Bos bison   \n",
      "2   Mammal                     Bos taurus   \n",
      "3   Mammal                     Ovis aries   \n",
      "4   Mammal                 Cervus elaphus   \n",
      "\n",
      "                                        common_names conservation_status  \n",
      "0                           Gapper's Red-Backed Vole                 NaN  \n",
      "1                              American Bison, Bison                 NaN  \n",
      "2  Aurochs, Aurochs, Domestic Cattle (Feral), Dom...                 NaN  \n",
      "3  Domestic Sheep, Mouflon, Red Sheep, Sheep (Feral)                 NaN  \n",
      "4                                      Wapiti Or Elk                 NaN  \n"
     ]
    }
   ],
   "source": [
    "# inspect dfs\n",
    "print('df-observations')\n",
    "print(observations.head())\n",
    "print('\\n', 'df-species')\n",
    "print(species.head())"
   ]
  },
  {
   "cell_type": "code",
   "execution_count": 7,
   "metadata": {},
   "outputs": [],
   "source": [
    "# note -- observations: observation times "
   ]
  },
  {
   "cell_type": "code",
   "execution_count": 9,
   "metadata": {},
   "outputs": [
    {
     "name": "stdout",
     "output_type": "stream",
     "text": [
      "Index(['category', 'scientific_name', 'common_names', 'conservation_status'], dtype='object')\n"
     ]
    }
   ],
   "source": [
    "# explore species df\n",
    "species_columns = species.columns\n",
    "print(species_columns)"
   ]
  },
  {
   "cell_type": "code",
   "execution_count": 11,
   "metadata": {},
   "outputs": [
    {
     "name": "stdout",
     "output_type": "stream",
     "text": [
      "num of rows - species:  5824\n",
      "category               object\n",
      "scientific_name        object\n",
      "common_names           object\n",
      "conservation_status    object\n",
      "dtype: object\n"
     ]
    }
   ],
   "source": [
    "# species length\n",
    "species_length = len(species)\n",
    "print('num of rows - species: ', species_length)\n",
    "# dtypes\n",
    "print(species.dtypes)\n",
    "\n"
   ]
  },
  {
   "cell_type": "code",
   "execution_count": 13,
   "metadata": {},
   "outputs": [
    {
     "name": "stdout",
     "output_type": "stream",
     "text": [
      "5541\n"
     ]
    }
   ],
   "source": [
    "# see if there is any redundent names\n",
    "print(species['scientific_name'].nunique())"
   ]
  },
  {
   "cell_type": "code",
   "execution_count": 15,
   "metadata": {},
   "outputs": [
    {
     "name": "stdout",
     "output_type": "stream",
     "text": [
      "5504\n"
     ]
    }
   ],
   "source": [
    "print(species['common_names'].nunique())"
   ]
  },
  {
   "cell_type": "code",
   "execution_count": 17,
   "metadata": {},
   "outputs": [
    {
     "name": "stdout",
     "output_type": "stream",
     "text": [
      "number of duplicated rows in species df:  0\n"
     ]
    }
   ],
   "source": [
    "# look like there are redundent names for both scientific and common names\n",
    "# but first, check for duplicated rows\n",
    "print('number of duplicated rows in species df: ', species.duplicated().sum())"
   ]
  },
  {
   "cell_type": "code",
   "execution_count": 29,
   "metadata": {},
   "outputs": [
    {
     "name": "stdout",
     "output_type": "stream",
     "text": [
      "[nan 'Species of Concern' 'Endangered' 'Threatened' 'In Recovery']\n"
     ]
    }
   ],
   "source": [
    "# check for conservation_status\n",
    "print((species.conservation_status.unique()))"
   ]
  },
  {
   "cell_type": "code",
   "execution_count": 35,
   "metadata": {},
   "outputs": [
    {
     "name": "stdout",
     "output_type": "stream",
     "text": [
      "     category      scientific_name     common_names conservation_status\n",
      "560      Fish  Oncorhynchus mykiss    Rainbow Trout                 NaN\n",
      "3020   Mammal          Canis lupus  Gray Wolf, Wolf         In Recovery\n",
      "3283     Fish  Oncorhynchus mykiss    Rainbow Trout          Threatened\n",
      "4448   Mammal          Canis lupus  Gray Wolf, Wolf          Endangered\n"
     ]
    }
   ],
   "source": [
    "# to check if there are duplicated rows based on category, scientific and common names\n",
    "print(species[species.duplicated(subset=['category','scientific_name', 'common_names'], keep=False)])"
   ]
  },
  {
   "cell_type": "code",
   "execution_count": 37,
   "metadata": {},
   "outputs": [
    {
     "name": "stdout",
     "output_type": "stream",
     "text": [
      "Empty DataFrame\n",
      "Columns: [category, scientific_name, common_names, conservation_status]\n",
      "Index: []\n"
     ]
    }
   ],
   "source": [
    "# it shows that there are two duplicated rows in species df that need to be dropped\n",
    "# drop duplicated rows in species\n",
    "species.drop_duplicates(subset=['category','scientific_name', 'common_names'], inplace=True)\n",
    "print(species[species.duplicated(subset=['category','scientific_name', 'common_names'], keep=False)])"
   ]
  },
  {
   "cell_type": "code",
   "execution_count": 39,
   "metadata": {},
   "outputs": [
    {
     "name": "stdout",
     "output_type": "stream",
     "text": [
      "category                  0\n",
      "scientific_name           0\n",
      "common_names              0\n",
      "conservation_status    5633\n",
      "dtype: int64\n"
     ]
    }
   ],
   "source": [
    "# count missing values in species\n",
    "print(species.isna().sum())"
   ]
  },
  {
   "cell_type": "code",
   "execution_count": 43,
   "metadata": {},
   "outputs": [
    {
     "name": "stdout",
     "output_type": "stream",
     "text": [
      "category               0\n",
      "scientific_name        0\n",
      "common_names           0\n",
      "conservation_status    0\n",
      "dtype: int64\n"
     ]
    }
   ],
   "source": [
    "# fill nan with 'no concern' for conservation_status column\n",
    "species.fillna('No concern', inplace=True)\n",
    "# check for nan\n",
    "print(species.isna().sum())"
   ]
  },
  {
   "cell_type": "code",
   "execution_count": 59,
   "metadata": {},
   "outputs": [
    {
     "name": "stdout",
     "output_type": "stream",
     "text": [
      "            category                   scientific_name  \\\n",
      "3017          Mammal                    Cervus elaphus   \n",
      "3019          Mammal            Odocoileus virginianus   \n",
      "3020          Mammal                       Canis lupus   \n",
      "3022          Mammal                     Puma concolor   \n",
      "3025          Mammal                  Lutra canadensis   \n",
      "...              ...                               ...   \n",
      "5619  Vascular Plant  Panicum rigidulum var. rigidulum   \n",
      "5638  Vascular Plant                    Setaria pumila   \n",
      "5640  Vascular Plant                  Vulpia bromoides   \n",
      "5643  Vascular Plant                     Vulpia myuros   \n",
      "5750  Vascular Plant                   Rosa eglanteria   \n",
      "\n",
      "                                           common_names conservation_status  \n",
      "3017                                 Rocky Mountain Elk          No concern  \n",
      "3019               White-Tailed Deer, White-Tailed Deer          No concern  \n",
      "3020                                    Gray Wolf, Wolf         In Recovery  \n",
      "3022                        Cougar, Mountain Lion, Puma          No concern  \n",
      "3025                                        River Otter          No concern  \n",
      "...                                                 ...                 ...  \n",
      "5619                  Redtop Panicgrass, Redtop Panicum          No concern  \n",
      "5638  Cattail Grass, Yellow Bristle Grass, Yellow Br...          No concern  \n",
      "5640  Brome Fescue, Brome Six-Weeks Grass, Desert Fe...          No concern  \n",
      "5643  Foxtail Fescue, Rattail Fescue, Rat-Tail Fescu...          No concern  \n",
      "5750                                    Sweetbriar Rose          No concern  \n",
      "\n",
      "[281 rows x 4 columns]\n"
     ]
    }
   ],
   "source": [
    "# check for duplicated scientific names\n",
    "print(species[species.duplicated(subset=['scientific_name'])])"
   ]
  },
  {
   "cell_type": "code",
   "execution_count": 65,
   "metadata": {},
   "outputs": [
    {
     "name": "stdout",
     "output_type": "stream",
     "text": [
      "     category scientific_name        common_names conservation_status\n",
      "4      Mammal  Cervus elaphus       Wapiti Or Elk          No concern\n",
      "3017   Mammal  Cervus elaphus  Rocky Mountain Elk          No concern\n",
      "     category         scientific_name                          common_names  \\\n",
      "5      Mammal  Odocoileus virginianus                     White-Tailed Deer   \n",
      "3019   Mammal  Odocoileus virginianus  White-Tailed Deer, White-Tailed Deer   \n",
      "\n",
      "     conservation_status  \n",
      "5             No concern  \n",
      "3019          No concern  \n"
     ]
    }
   ],
   "source": [
    "# exame some cases\n",
    "print(species[species.scientific_name == 'Cervus elaphus'])\n",
    "print(species[species.scientific_name == 'Odocoileus virginianus'])"
   ]
  },
  {
   "cell_type": "code",
   "execution_count": 69,
   "metadata": {},
   "outputs": [
    {
     "name": "stdout",
     "output_type": "stream",
     "text": [
      "0\n"
     ]
    }
   ],
   "source": [
    "# scientific names should be distinct, so there are duplicated rows \n",
    "# drop duplicated rows based on scientific name\n",
    "species_clean = species.drop_duplicates(subset=['scientific_name'])\n",
    "print(species_clean.duplicated(subset=['scientific_name']).sum())"
   ]
  },
  {
   "cell_type": "code",
   "execution_count": 73,
   "metadata": {},
   "outputs": [
    {
     "name": "stdout",
     "output_type": "stream",
     "text": [
      "5541\n"
     ]
    }
   ],
   "source": [
    "# now the species_clean is really clean\n",
    "# count the num of species\n",
    "total_species = species_clean['scientific_name'].count()\n",
    "print(total_species)"
   ]
  },
  {
   "cell_type": "code",
   "execution_count": null,
   "metadata": {},
   "outputs": [],
   "source": [
    "# barchart for consevation status\n",
    "\n"
   ]
  },
  {
   "cell_type": "code",
   "execution_count": null,
   "metadata": {},
   "outputs": [],
   "source": []
  }
 ],
 "metadata": {
  "kernelspec": {
   "display_name": "Python 3 (ipykernel)",
   "language": "python",
   "name": "python3"
  },
  "language_info": {
   "codemirror_mode": {
    "name": "ipython",
    "version": 3
   },
   "file_extension": ".py",
   "mimetype": "text/x-python",
   "name": "python",
   "nbconvert_exporter": "python",
   "pygments_lexer": "ipython3",
   "version": "3.12.4"
  }
 },
 "nbformat": 4,
 "nbformat_minor": 4
}
